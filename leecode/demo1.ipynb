{
 "metadata": {
  "language_info": {
   "codemirror_mode": {
    "name": "ipython",
    "version": 3
   },
   "file_extension": ".py",
   "mimetype": "text/x-python",
   "name": "python",
   "nbconvert_exporter": "python",
   "pygments_lexer": "ipython3",
   "version": "3.7.7"
  },
  "orig_nbformat": 2,
  "kernelspec": {
   "name": "python377jvsc74a57bd07f4adbc6b70afedd81f519f245fba20762d24430f7950260fbea43d59748b96b",
   "display_name": "Python 3.7.7 64-bit ('py37': conda)"
  }
 },
 "nbformat": 4,
 "nbformat_minor": 2,
 "cells": [
  {
   "cell_type": "markdown",
   "source": [
    "# Leecode刷题记录"
   ],
   "metadata": {}
  },
  {
   "cell_type": "markdown",
   "source": [
    " 删除排序数组中的重复项\n",
    "给你一个有序数组 nums ，请你 原地 删除重复出现的元素，使每个元素 只出现一次 ，返回删除后数组的新长度。\n",
    "不要使用额外的数组空间，你必须在 原地 修改输入数组 并在使用 O(1) 额外空间的条件下完成。"
   ],
   "metadata": {}
  },
  {
   "cell_type": "markdown",
   "source": [
    "思路：使用双指针"
   ],
   "metadata": {}
  },
  {
   "cell_type": "code",
   "execution_count": 7,
   "source": [
    "class Solution:\n",
    "    def removeDuplicates( nums:list) -> int:\n",
    "        for i in range(len(nums) - 1, 0, -1):\n",
    "            if nums[i] == nums[i - 1]:\n",
    "                del nums[i]\n",
    "        return len(nums)\n",
    "    nums=[1,1,2,3,4,4,5,5]\n",
    "    nums1=[1,2,2,2,3,3,3,4]\n",
    "    print(removeDuplicates(nums))\n",
    "    print(removeDuplicates(nums1))"
   ],
   "outputs": [
    {
     "output_type": "stream",
     "name": "stdout",
     "text": [
      "5\n",
      "4\n"
     ]
    }
   ],
   "metadata": {}
  },
  {
   "cell_type": "markdown",
   "source": [
    "**判断数组重复元素**"
   ],
   "metadata": {}
  },
  {
   "cell_type": "markdown",
   "source": [
    "给定一个整数数组，判断是否存在重复元素。\n",
    "如果存在一值在数组中出现至少两次，函数返回 true 。如果数组中每个元素都不相同，则返回 false 。"
   ],
   "metadata": {}
  },
  {
   "cell_type": "code",
   "execution_count": 8,
   "source": [
    "nums=[1,2,2,3,3]\n",
    "for i in range(len(nums)-1):\n",
    "    print(nums[i])\n",
    "    print(nums[i+1])\n",
    "    print('----------')\n",
    "\n"
   ],
   "outputs": [
    {
     "output_type": "stream",
     "name": "stdout",
     "text": [
      "1\n",
      "2\n",
      "----------\n",
      "2\n",
      "2\n",
      "----------\n",
      "2\n",
      "3\n",
      "----------\n",
      "3\n",
      "3\n",
      "----------\n"
     ]
    }
   ],
   "metadata": {}
  },
  {
   "cell_type": "code",
   "execution_count": 9,
   "source": [
    "# 执行时间不符合要求\n",
    "def ischongfu (nums):\n",
    "    flag=False\n",
    "    for i in range(0,len(nums),1):\n",
    "        for j in range(i+1,len(nums),1):\n",
    "            # print(str(i)+'----'+str(j))\n",
    "            if nums[i]==nums[j]:\n",
    "                flag=True\n",
    "    return flag\n"
   ],
   "outputs": [],
   "metadata": {
    "tags": []
   }
  },
  {
   "cell_type": "code",
   "execution_count": 10,
   "source": [
    "#使用sorted对数组排序后只需要判断相邻元素是否相等\n",
    "#减少了一次循环 符合要求\n",
    "def ischongfu1(nums):\n",
    "    flag=False\n",
    "    nums=sorted(nums)\n",
    "    for i in range(0,len(nums)-1,1):\n",
    "        if nums[i]==nums[i+1]:\n",
    "            flag=True\n",
    "    return flag"
   ],
   "outputs": [],
   "metadata": {}
  },
  {
   "cell_type": "code",
   "execution_count": 11,
   "source": [
    "nums=[21,4,76,22,1,2,1,32,21]\n",
    "ischongfu1(nums)"
   ],
   "outputs": [
    {
     "output_type": "execute_result",
     "data": {
      "text/plain": [
       "True"
      ]
     },
     "metadata": {},
     "execution_count": 11
    }
   ],
   "metadata": {}
  },
  {
   "cell_type": "markdown",
   "source": [
    "**购买股票的最佳时机**  \n",
    "给定一个数组 prices，其中 prices[i] 是一支给定股票第 i 天的价格。  \n",
    "设计一个算法来计算你所能获取的最大利润。你可以尽可能地完成更多的交易（多次买卖一支股票）。  \n",
    "注意：你不能同时参与多笔交易（你必须在再次购买前出售掉之前的股票）"
   ],
   "metadata": {}
  },
  {
   "cell_type": "markdown",
   "source": [
    "输入: prices = [7,1,5,3,6,4]  \n",
    "输出: 7  \n",
    "解释: 在第 2 天（股票价格 = 1）的时候买入，在第 3 天（股票价格 = 5）的时候卖出, 这笔交易所能获得利润 = 5-1 = 4 。  \n",
    "     随后，在第 4 天（股票价格 = 3）的时候买入，在第 5 天（股票价格 = 6）的时候卖出, 这笔交易所能获得利润 = 6-3 = 3 。"
   ],
   "metadata": {}
  },
  {
   "cell_type": "code",
   "execution_count": 13,
   "source": [
    "import this"
   ],
   "outputs": [],
   "metadata": {}
  },
  {
   "cell_type": "code",
   "execution_count": null,
   "source": [],
   "outputs": [],
   "metadata": {}
  },
  {
   "cell_type": "code",
   "execution_count": null,
   "source": [],
   "outputs": [],
   "metadata": {}
  },
  {
   "cell_type": "code",
   "execution_count": null,
   "source": [],
   "outputs": [],
   "metadata": {}
  },
  {
   "cell_type": "code",
   "execution_count": null,
   "source": [],
   "outputs": [],
   "metadata": {}
  }
 ]
}