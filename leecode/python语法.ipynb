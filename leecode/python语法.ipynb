{
 "metadata": {
  "language_info": {
   "codemirror_mode": {
    "name": "ipython",
    "version": 3
   },
   "file_extension": ".py",
   "mimetype": "text/x-python",
   "name": "python",
   "nbconvert_exporter": "python",
   "pygments_lexer": "ipython3",
   "version": "3.7.7"
  },
  "orig_nbformat": 2,
  "kernelspec": {
   "name": "python377jvsc74a57bd07f4adbc6b70afedd81f519f245fba20762d24430f7950260fbea43d59748b96b",
   "display_name": "Python 3.7.7 64-bit ('py37': conda)"
  }
 },
 "nbformat": 4,
 "nbformat_minor": 2,
 "cells": [
  {
   "cell_type": "markdown",
   "source": [
    "# Python语法练习"
   ],
   "metadata": {}
  },
  {
   "cell_type": "markdown",
   "source": [
    "1.查看python保留字"
   ],
   "metadata": {}
  },
  {
   "cell_type": "code",
   "execution_count": 8,
   "source": [
    "import keyword\n",
    "print(keyword.kwlist)"
   ],
   "outputs": [
    {
     "output_type": "stream",
     "name": "stdout",
     "text": [
      "['False', 'None', 'True', 'and', 'as', 'assert', 'async', 'await', 'break', 'class', 'continue', 'def', 'del', 'elif', 'else', 'except', 'finally', 'for', 'from', 'global', 'if', 'import', 'in', 'is', 'lambda', 'nonlocal', 'not', 'or', 'pass', 'raise', 'return', 'try', 'while', 'with', 'yield']\n"
     ]
    }
   ],
   "metadata": {}
  },
  {
   "cell_type": "markdown",
   "source": [
    "**用户输入**"
   ],
   "metadata": {}
  },
  {
   "cell_type": "code",
   "execution_count": 9,
   "source": [
    "aaa=input(\"\\n\\n按下 enter 键后退出。\")\n",
    "print(aaa)"
   ],
   "outputs": [
    {
     "output_type": "stream",
     "name": "stdout",
     "text": [
      "\n"
     ]
    }
   ],
   "metadata": {}
  },
  {
   "cell_type": "code",
   "execution_count": 10,
   "source": [
    "list1 = [ 'abcd', 786 , 2.23, 'runoob', 70.2 ]\n",
    "list2=[123, 'runoob']\n",
    "print('打印列表:')\n",
    "print(list1)\n",
    "print('打印第三个元素:')\n",
    "print(list1[2])\n",
    "print('打印第二三个元素:')\n",
    "print(list1[1:3])\n",
    "print('打印第3个元素及之后的所有:')\n",
    "print(list1[2:])\n",
    "print('输出两边讨好列表')\n",
    "print(list2*2)\n",
    "print('拼接列表:')\n",
    "print(list1+list2)"
   ],
   "outputs": [
    {
     "output_type": "stream",
     "name": "stdout",
     "text": [
      "打印列表:\n",
      "['abcd', 786, 2.23, 'runoob', 70.2]\n",
      "打印第三个元素:\n",
      "2.23\n",
      "打印第二三个元素:\n",
      "[786, 2.23]\n",
      "打印第3个元素及之后的所有:\n",
      "[2.23, 'runoob', 70.2]\n",
      "输出两边讨好列表\n",
      "[123, 'runoob', 123, 'runoob']\n",
      "拼接列表:\n",
      "['abcd', 786, 2.23, 'runoob', 70.2, 123, 'runoob']\n"
     ]
    }
   ],
   "metadata": {}
  },
  {
   "cell_type": "code",
   "execution_count": 11,
   "source": [
    "import this"
   ],
   "outputs": [],
   "metadata": {}
  },
  {
   "cell_type": "code",
   "execution_count": 12,
   "source": [
    "import pandas"
   ],
   "outputs": [],
   "metadata": {}
  },
  {
   "cell_type": "code",
   "execution_count": null,
   "source": [
    "import pandas\n"
   ],
   "outputs": [],
   "metadata": {}
  }
 ]
}