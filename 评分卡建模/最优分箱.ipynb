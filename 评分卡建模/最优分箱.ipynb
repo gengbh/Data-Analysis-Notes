{
 "cells": [
  {
   "cell_type": "markdown",
   "metadata": {},
   "source": [
    "# 最优分箱"
   ]
  },
  {
   "cell_type": "code",
   "execution_count": 2,
   "metadata": {},
   "outputs": [
    {
     "name": "stderr",
     "output_type": "stream",
     "text": [
      "/Users/gengbh/anaconda3/envs/py37/lib/python3.7/importlib/_bootstrap.py:219: RuntimeWarning: numpy.ufunc size changed, may indicate binary incompatibility. Expected 192 from C header, got 216 from PyObject\n",
      "  return f(*args, **kwds)\n"
     ]
    }
   ],
   "source": [
    "from sklearn.tree import DecisionTreeClassifier\n",
    "import pandas as pd\n",
    "import numpy as np"
   ]
  },
  {
   "cell_type": "code",
   "execution_count": 5,
   "metadata": {},
   "outputs": [
    {
     "name": "stdout",
     "output_type": "stream",
     "text": [
      "(150000, 12)\n"
     ]
    }
   ],
   "source": [
    "dat=pd.read_csv('day08_rankingcard.csv')\n",
    "print(dat.shape)\n",
    "dat=dat.iloc[:,1:]"
   ]
  },
  {
   "cell_type": "code",
   "execution_count": 15,
   "metadata": {},
   "outputs": [
    {
     "data": {
      "text/html": [
       "<div>\n",
       "<style scoped>\n",
       "    .dataframe tbody tr th:only-of-type {\n",
       "        vertical-align: middle;\n",
       "    }\n",
       "\n",
       "    .dataframe tbody tr th {\n",
       "        vertical-align: top;\n",
       "    }\n",
       "\n",
       "    .dataframe thead th {\n",
       "        text-align: right;\n",
       "    }\n",
       "</style>\n",
       "<table border=\"1\" class=\"dataframe\">\n",
       "  <thead>\n",
       "    <tr style=\"text-align: right;\">\n",
       "      <th></th>\n",
       "      <th>SeriousDlqin2yrs</th>\n",
       "      <th>RevolvingUtilizationOfUnsecuredLines</th>\n",
       "      <th>age</th>\n",
       "      <th>NumberOfTime30-59DaysPastDueNotWorse</th>\n",
       "      <th>DebtRatio</th>\n",
       "      <th>MonthlyIncome</th>\n",
       "      <th>NumberOfOpenCreditLinesAndLoans</th>\n",
       "      <th>NumberOfTimes90DaysLate</th>\n",
       "      <th>NumberRealEstateLoansOrLines</th>\n",
       "      <th>NumberOfTime60-89DaysPastDueNotWorse</th>\n",
       "      <th>NumberOfDependents</th>\n",
       "    </tr>\n",
       "  </thead>\n",
       "  <tbody>\n",
       "    <tr>\n",
       "      <th>0</th>\n",
       "      <td>1</td>\n",
       "      <td>0.766127</td>\n",
       "      <td>45</td>\n",
       "      <td>2</td>\n",
       "      <td>0.802982</td>\n",
       "      <td>9120.0</td>\n",
       "      <td>13</td>\n",
       "      <td>0</td>\n",
       "      <td>6</td>\n",
       "      <td>0</td>\n",
       "      <td>2.0</td>\n",
       "    </tr>\n",
       "    <tr>\n",
       "      <th>1</th>\n",
       "      <td>0</td>\n",
       "      <td>0.957151</td>\n",
       "      <td>40</td>\n",
       "      <td>0</td>\n",
       "      <td>0.121876</td>\n",
       "      <td>2600.0</td>\n",
       "      <td>4</td>\n",
       "      <td>0</td>\n",
       "      <td>0</td>\n",
       "      <td>0</td>\n",
       "      <td>1.0</td>\n",
       "    </tr>\n",
       "    <tr>\n",
       "      <th>2</th>\n",
       "      <td>0</td>\n",
       "      <td>0.658180</td>\n",
       "      <td>38</td>\n",
       "      <td>1</td>\n",
       "      <td>0.085113</td>\n",
       "      <td>3042.0</td>\n",
       "      <td>2</td>\n",
       "      <td>1</td>\n",
       "      <td>0</td>\n",
       "      <td>0</td>\n",
       "      <td>0.0</td>\n",
       "    </tr>\n",
       "    <tr>\n",
       "      <th>3</th>\n",
       "      <td>0</td>\n",
       "      <td>0.233810</td>\n",
       "      <td>30</td>\n",
       "      <td>0</td>\n",
       "      <td>0.036050</td>\n",
       "      <td>3300.0</td>\n",
       "      <td>5</td>\n",
       "      <td>0</td>\n",
       "      <td>0</td>\n",
       "      <td>0</td>\n",
       "      <td>0.0</td>\n",
       "    </tr>\n",
       "    <tr>\n",
       "      <th>4</th>\n",
       "      <td>0</td>\n",
       "      <td>0.907239</td>\n",
       "      <td>49</td>\n",
       "      <td>1</td>\n",
       "      <td>0.024926</td>\n",
       "      <td>63588.0</td>\n",
       "      <td>7</td>\n",
       "      <td>0</td>\n",
       "      <td>1</td>\n",
       "      <td>0</td>\n",
       "      <td>0.0</td>\n",
       "    </tr>\n",
       "  </tbody>\n",
       "</table>\n",
       "</div>"
      ],
      "text/plain": [
       "   SeriousDlqin2yrs  RevolvingUtilizationOfUnsecuredLines  age  \\\n",
       "0                 1                              0.766127   45   \n",
       "1                 0                              0.957151   40   \n",
       "2                 0                              0.658180   38   \n",
       "3                 0                              0.233810   30   \n",
       "4                 0                              0.907239   49   \n",
       "\n",
       "   NumberOfTime30-59DaysPastDueNotWorse  DebtRatio  MonthlyIncome  \\\n",
       "0                                     2   0.802982         9120.0   \n",
       "1                                     0   0.121876         2600.0   \n",
       "2                                     1   0.085113         3042.0   \n",
       "3                                     0   0.036050         3300.0   \n",
       "4                                     1   0.024926        63588.0   \n",
       "\n",
       "   NumberOfOpenCreditLinesAndLoans  NumberOfTimes90DaysLate  \\\n",
       "0                               13                        0   \n",
       "1                                4                        0   \n",
       "2                                2                        1   \n",
       "3                                5                        0   \n",
       "4                                7                        0   \n",
       "\n",
       "   NumberRealEstateLoansOrLines  NumberOfTime60-89DaysPastDueNotWorse  \\\n",
       "0                             6                                     0   \n",
       "1                             0                                     0   \n",
       "2                             0                                     0   \n",
       "3                             0                                     0   \n",
       "4                             1                                     0   \n",
       "\n",
       "   NumberOfDependents  \n",
       "0                 2.0  \n",
       "1                 1.0  \n",
       "2                 0.0  \n",
       "3                 0.0  \n",
       "4                 0.0  "
      ]
     },
     "execution_count": 15,
     "metadata": {},
     "output_type": "execute_result"
    }
   ],
   "source": [
    "dat.head(5)"
   ]
  },
  {
   "cell_type": "code",
   "execution_count": 8,
   "metadata": {},
   "outputs": [],
   "source": [
    "def optimal_binning_boundary(x: pd.Series, y: pd.Series, nan: float = -999.) -> list:\n",
    "    '''\n",
    "    利用决策树获得最优分箱的边界值列表\n",
    "    '''\n",
    "    boundary = []  # 待return的分箱边界值列表\n",
    "    \n",
    "    x = x.fillna(nan).values  # 填充缺失值\n",
    "    y = y.values\n",
    "    \n",
    "    clf = DecisionTreeClassifier(criterion='entropy',    #“信息熵”最小化准则划分\n",
    "                                 max_leaf_nodes=6,       # 最大叶子节点数\n",
    "                                 min_samples_leaf=0.05)  # 叶子节点样本数量最小占比\n",
    "\n",
    "    clf.fit(x.reshape(-1, 1), y)  # 训练决策树\n",
    "    \n",
    "    n_nodes = clf.tree_.node_count\n",
    "    children_left = clf.tree_.children_left\n",
    "    children_right = clf.tree_.children_right\n",
    "    threshold = clf.tree_.threshold\n",
    "    \n",
    "    for i in range(n_nodes):\n",
    "        if children_left[i] != children_right[i]:  # 获得决策树节点上的划分边界值\n",
    "            boundary.append(threshold[i])\n",
    "\n",
    "    boundary.sort()\n",
    "\n",
    "    min_x = x.min()\n",
    "    max_x = x.max() + 0.1  # +0.1是为了考虑后续groupby操作时，能包含特征最大值的样本\n",
    "    boundary = [min_x] + boundary + [max_x]\n",
    "    return boundary"
   ]
  },
  {
   "cell_type": "code",
   "execution_count": 11,
   "metadata": {},
   "outputs": [
    {
     "data": {
      "text/plain": [
       "[0.0,\n",
       " 0.11458224803209305,\n",
       " 0.21776090562343597,\n",
       " 0.49497613310813904,\n",
       " 0.6981423199176788,\n",
       " 0.8596274554729462,\n",
       " 50708.1]"
      ]
     },
     "execution_count": 11,
     "metadata": {},
     "output_type": "execute_result"
    }
   ],
   "source": [
    "optimal_binning_boundary(x=dat['RevolvingUtilizationOfUnsecuredLines'],y=dat['SeriousDlqin2yrs'])"
   ]
  },
  {
   "cell_type": "code",
   "execution_count": 13,
   "metadata": {},
   "outputs": [],
   "source": [
    "def feature_woe_iv(x: pd.Series, y: pd.Series, nan: float = -999.) -> pd.DataFrame:\n",
    "    '''\n",
    "        计算变量各个分箱的WOE、IV值，返回一个DataFrame\n",
    "    '''\n",
    "    \n",
    "    x = x.fillna(nan)\n",
    "    boundary = optimal_binning_boundary(x, y, nan)        # 获得最优分箱边界值列表\n",
    "    df = pd.concat([x, y], axis=1)                        # 合并x、y为一个DataFrame，方便后续计算\n",
    "    df.columns = ['x', 'y']                               # 特征变量、目标变量字段的重命名\n",
    "    df['bins'] = pd.cut(x=x, bins=boundary, right=False)  # 获得每个x值所在的分箱区间\n",
    "    grouped = df.groupby('bins')['y']                     # 统计各分箱区间的好、坏、总客户数量\n",
    "    result_df = grouped.agg([('good',  lambda y: (y == 0).sum()), \n",
    "                             ('bad',   lambda y: (y == 1).sum()),\n",
    "                             ('total', 'count')])\n",
    "    result_df['good_pct'] = result_df['good'] / result_df['good'].sum()       # 好客户占比\n",
    "    result_df['bad_pct'] = result_df['bad'] / result_df['bad'].sum()          # 坏客户占比\n",
    "    result_df['total_pct'] = result_df['total'] / result_df['total'].sum()    # 总客户占比\n",
    "    result_df['bad_rate'] = result_df['bad'] / result_df['total']             # 坏比率\n",
    "    result_df['woe'] = np.log(result_df['good_pct'] / result_df['bad_pct'])              # WOE\n",
    "    result_df['iv'] = (result_df['good_pct'] - result_df['bad_pct']) * result_df['woe']  # IV\n",
    "    print(f\"该变量IV = {result_df['iv'].sum()}\")\n",
    "    return result_df"
   ]
  },
  {
   "cell_type": "code",
   "execution_count": 14,
   "metadata": {},
   "outputs": [
    {
     "name": "stdout",
     "output_type": "stream",
     "text": [
      "该变量IV = 1.1025918750620314\n"
     ]
    },
    {
     "data": {
      "text/html": [
       "<div>\n",
       "<style scoped>\n",
       "    .dataframe tbody tr th:only-of-type {\n",
       "        vertical-align: middle;\n",
       "    }\n",
       "\n",
       "    .dataframe tbody tr th {\n",
       "        vertical-align: top;\n",
       "    }\n",
       "\n",
       "    .dataframe thead th {\n",
       "        text-align: right;\n",
       "    }\n",
       "</style>\n",
       "<table border=\"1\" class=\"dataframe\">\n",
       "  <thead>\n",
       "    <tr style=\"text-align: right;\">\n",
       "      <th></th>\n",
       "      <th>good</th>\n",
       "      <th>bad</th>\n",
       "      <th>total</th>\n",
       "      <th>good_pct</th>\n",
       "      <th>bad_pct</th>\n",
       "      <th>total_pct</th>\n",
       "      <th>bad_rate</th>\n",
       "      <th>woe</th>\n",
       "      <th>iv</th>\n",
       "    </tr>\n",
       "    <tr>\n",
       "      <th>bins</th>\n",
       "      <th></th>\n",
       "      <th></th>\n",
       "      <th></th>\n",
       "      <th></th>\n",
       "      <th></th>\n",
       "      <th></th>\n",
       "      <th></th>\n",
       "      <th></th>\n",
       "      <th></th>\n",
       "    </tr>\n",
       "  </thead>\n",
       "  <tbody>\n",
       "    <tr>\n",
       "      <th>[0.0, 0.115)</th>\n",
       "      <td>66466</td>\n",
       "      <td>1226</td>\n",
       "      <td>67692</td>\n",
       "      <td>0.474845</td>\n",
       "      <td>0.122282</td>\n",
       "      <td>0.451280</td>\n",
       "      <td>0.018111</td>\n",
       "      <td>1.356659</td>\n",
       "      <td>0.478308</td>\n",
       "    </tr>\n",
       "    <tr>\n",
       "      <th>[0.115, 0.218)</th>\n",
       "      <td>15776</td>\n",
       "      <td>486</td>\n",
       "      <td>16262</td>\n",
       "      <td>0.112707</td>\n",
       "      <td>0.048474</td>\n",
       "      <td>0.108413</td>\n",
       "      <td>0.029886</td>\n",
       "      <td>0.843761</td>\n",
       "      <td>0.054197</td>\n",
       "    </tr>\n",
       "    <tr>\n",
       "      <th>[0.218, 0.495)</th>\n",
       "      <td>23162</td>\n",
       "      <td>1245</td>\n",
       "      <td>24407</td>\n",
       "      <td>0.165474</td>\n",
       "      <td>0.124177</td>\n",
       "      <td>0.162713</td>\n",
       "      <td>0.051010</td>\n",
       "      <td>0.287103</td>\n",
       "      <td>0.011856</td>\n",
       "    </tr>\n",
       "    <tr>\n",
       "      <th>[0.495, 0.698)</th>\n",
       "      <td>10499</td>\n",
       "      <td>1100</td>\n",
       "      <td>11599</td>\n",
       "      <td>0.075007</td>\n",
       "      <td>0.109715</td>\n",
       "      <td>0.077327</td>\n",
       "      <td>0.094836</td>\n",
       "      <td>-0.380305</td>\n",
       "      <td>0.013200</td>\n",
       "    </tr>\n",
       "    <tr>\n",
       "      <th>[0.698, 0.86)</th>\n",
       "      <td>6716</td>\n",
       "      <td>1097</td>\n",
       "      <td>7813</td>\n",
       "      <td>0.047980</td>\n",
       "      <td>0.109416</td>\n",
       "      <td>0.052087</td>\n",
       "      <td>0.140407</td>\n",
       "      <td>-0.824361</td>\n",
       "      <td>0.050645</td>\n",
       "    </tr>\n",
       "    <tr>\n",
       "      <th>[0.86, 50708.1)</th>\n",
       "      <td>17355</td>\n",
       "      <td>4872</td>\n",
       "      <td>22227</td>\n",
       "      <td>0.123987</td>\n",
       "      <td>0.485937</td>\n",
       "      <td>0.148180</td>\n",
       "      <td>0.219193</td>\n",
       "      <td>-1.365899</td>\n",
       "      <td>0.494386</td>\n",
       "    </tr>\n",
       "  </tbody>\n",
       "</table>\n",
       "</div>"
      ],
      "text/plain": [
       "                  good   bad  total  good_pct   bad_pct  total_pct  bad_rate  \\\n",
       "bins                                                                           \n",
       "[0.0, 0.115)     66466  1226  67692  0.474845  0.122282   0.451280  0.018111   \n",
       "[0.115, 0.218)   15776   486  16262  0.112707  0.048474   0.108413  0.029886   \n",
       "[0.218, 0.495)   23162  1245  24407  0.165474  0.124177   0.162713  0.051010   \n",
       "[0.495, 0.698)   10499  1100  11599  0.075007  0.109715   0.077327  0.094836   \n",
       "[0.698, 0.86)     6716  1097   7813  0.047980  0.109416   0.052087  0.140407   \n",
       "[0.86, 50708.1)  17355  4872  22227  0.123987  0.485937   0.148180  0.219193   \n",
       "\n",
       "                      woe        iv  \n",
       "bins                                 \n",
       "[0.0, 0.115)     1.356659  0.478308  \n",
       "[0.115, 0.218)   0.843761  0.054197  \n",
       "[0.218, 0.495)   0.287103  0.011856  \n",
       "[0.495, 0.698)  -0.380305  0.013200  \n",
       "[0.698, 0.86)   -0.824361  0.050645  \n",
       "[0.86, 50708.1) -1.365899  0.494386  "
      ]
     },
     "execution_count": 14,
     "metadata": {},
     "output_type": "execute_result"
    }
   ],
   "source": [
    "feature_woe_iv(x=dat['RevolvingUtilizationOfUnsecuredLines'], y=dat['SeriousDlqin2yrs'])"
   ]
  },
  {
   "cell_type": "code",
   "execution_count": 17,
   "metadata": {},
   "outputs": [
    {
     "name": "stdout",
     "output_type": "stream",
     "text": [
      "该变量IV = 1.1025918750620314\n",
      "该变量IV = 0.2588002937275757\n",
      "该变量IV = 0.7404812872794013\n",
      "该变量IV = 0.07500037832078503\n",
      "该变量IV = 0.08951432210475875\n",
      "该变量IV = 0.08339038139056673\n",
      "该变量IV = 0.8375513427285136\n",
      "该变量IV = 0.05535386543277276\n",
      "该变量IV = 0.5723728876090994\n",
      "该变量IV = 0.033818251077554096\n"
     ]
    }
   ],
   "source": [
    "for i in dat.columns:\n",
    "    if i !='SeriousDlqin2yrs':\n",
    "        feature_woe_iv(dat[i],dat['SeriousDlqin2yrs'])"
   ]
  },
  {
   "cell_type": "code",
   "execution_count": 24,
   "metadata": {},
   "outputs": [],
   "source": [
    "\n",
    "dd=pd.read_csv('/Users/gengbh/code/vscode/Data-Analysis-Notes/caicai-sklearn/1决策树/day08_data.csv')"
   ]
  },
  {
   "cell_type": "markdown",
   "metadata": {},
   "source": [
    "## 类别转换"
   ]
  },
  {
   "cell_type": "code",
   "execution_count": 27,
   "metadata": {},
   "outputs": [],
   "source": [
    "def cate_var_transform(X,Y):\n",
    "    ##取出数据类型\n",
    "    d_type = X.dtypes #转成一列series\n",
    "    object_var = X.iloc[:,np.where(d_type == \"object\")[0]]#筛选出字符型的列，\n",
    "    num_var = X.iloc[:,np.where(d_type != \"object\")[0]]#筛选出数值型的列\n",
    "    \n",
    "    #object_transfer_rule用于记录每个类别变量的数值转换规则\n",
    "    object_transfer_rule = list(np.zeros([len(object_var.columns)])) \n",
    "    \n",
    "    #object_transform是类别变量数值化转化后的值\n",
    "    object_transform = pd.DataFrame(np.zeros(object_var.shape),\n",
    "                                    columns=object_var.columns) \n",
    "    \n",
    "    for i in range(0,len(object_var.columns)):\n",
    "        \n",
    "        temp_var = object_var.iloc[:,i]\n",
    "        \n",
    "        ##除空值外的取值种类\n",
    "        unique_value=np.unique(temp_var.iloc[np.where(~temp_var.isna() )[0]])\n",
    "    \n",
    "        transform_rule=pd.concat([pd.DataFrame(unique_value,columns=['raw data']),\n",
    "                                       pd.DataFrame(np.zeros([len(unique_value),2]),\n",
    "                                                    columns=['transform data','bad rate'])],axis=1) \n",
    "        for j in range(0,len(unique_value)):\n",
    "            bad_num=len(np.where( (Y == 1) & (temp_var == unique_value[j]) )[0])\n",
    "            all_num=len(np.where(temp_var == unique_value[j])[0])\n",
    "            \n",
    "            #计算badprob\n",
    "            if all_num == 0:#防止all_num=0的情况，报错\n",
    "                all_num=0.5  \n",
    "            transform_rule.iloc[j,2] = 1.0000000*bad_num/all_num\n",
    "        \n",
    "        #按照badprob排序，给出转换后的数值\n",
    "        transform_rule = transform_rule.sort_values(by='bad rate')\n",
    "        transform_rule.iloc[:,1]=list(range(len(unique_value),0,-1))\n",
    "         \n",
    "        #保存转换规则\n",
    "        object_transfer_rule[i] = transform_rule\n",
    "        #转换变量\n",
    "        for k in range(0,len(unique_value)):\n",
    "            transfer_value = transform_rule.iloc[np.where(transform_rule.iloc[:,0] == unique_value[k])[0],1]\n",
    "            object_transform.iloc[np.where(temp_var == unique_value[k])[0],i] = float(transfer_value)\n",
    "        object_transform.iloc[np.where(object_transform.iloc[:,i] == 0)[0],i] = np.nan \n",
    "    \n",
    "    X_transformed = pd.concat([num_var,object_transform],axis = 1) \n",
    "    return(X_transformed,object_transfer_rule)"
   ]
  },
  {
   "cell_type": "code",
   "execution_count": 49,
   "metadata": {},
   "outputs": [],
   "source": [
    "# a,b=cate_var_transform(dd.loc[:,['Sex','Embarked']],dd.Survived)\n",
    "X=dd.loc[:,['Sex','Embarked']]"
   ]
  },
  {
   "cell_type": "code",
   "execution_count": 54,
   "metadata": {},
   "outputs": [
    {
     "data": {
      "text/plain": [
       "(891, 2)"
      ]
     },
     "execution_count": 54,
     "metadata": {},
     "output_type": "execute_result"
    }
   ],
   "source": [
    "d_type = X.dtypes #转成一列series\n",
    "object_var = X.iloc[:,np.where(d_type == \"object\")[0]]#筛选出字符型的列\n",
    "object_var.shape"
   ]
  },
  {
   "cell_type": "code",
   "execution_count": 55,
   "metadata": {},
   "outputs": [
    {
     "data": {
      "text/plain": [
       "[0.0, 0.0]"
      ]
     },
     "execution_count": 55,
     "metadata": {},
     "output_type": "execute_result"
    }
   ],
   "source": [
    "object_transfer_rule = list(np.zeros([len(object_var.columns)]))\n",
    "object_transfer_rule"
   ]
  },
  {
   "cell_type": "code",
   "execution_count": 59,
   "metadata": {},
   "outputs": [
    {
     "data": {
      "text/plain": [
       "(891,)"
      ]
     },
     "execution_count": 59,
     "metadata": {},
     "output_type": "execute_result"
    }
   ],
   "source": [
    "temp_var = object_var.iloc[:,1]\n",
    "temp_var.shape"
   ]
  },
  {
   "cell_type": "code",
   "execution_count": 61,
   "metadata": {},
   "outputs": [
    {
     "data": {
      "text/plain": [
       "array(['C', 'Q', 'S'], dtype=object)"
      ]
     },
     "execution_count": 61,
     "metadata": {},
     "output_type": "execute_result"
    }
   ],
   "source": [
    "unique_value=np.unique(temp_var.iloc[np.where(~temp_var.isna() )[0]])\n",
    "unique_value"
   ]
  },
  {
   "cell_type": "code",
   "execution_count": 73,
   "metadata": {},
   "outputs": [
    {
     "data": {
      "text/plain": [
       "0      S\n",
       "1      C\n",
       "2      S\n",
       "3      S\n",
       "4      S\n",
       "      ..\n",
       "886    S\n",
       "887    S\n",
       "888    S\n",
       "889    C\n",
       "890    Q\n",
       "Name: Embarked, Length: 889, dtype: object"
      ]
     },
     "execution_count": 73,
     "metadata": {},
     "output_type": "execute_result"
    }
   ],
   "source": [
    "temp_var.iloc[np.where(~temp_var.isna() )[0]]"
   ]
  },
  {
   "cell_type": "code",
   "execution_count": 75,
   "metadata": {},
   "outputs": [
    {
     "data": {
      "text/plain": [
       "array([[0., 0.],\n",
       "       [0., 0.],\n",
       "       [0., 0.]])"
      ]
     },
     "execution_count": 75,
     "metadata": {},
     "output_type": "execute_result"
    }
   ],
   "source": [
    "np.zeros([len(unique_value),2])"
   ]
  },
  {
   "cell_type": "code",
   "execution_count": null,
   "metadata": {},
   "outputs": [],
   "source": [
    "##除空值外的取值种类\n",
    "unique_value=np.unique(temp_var.iloc[np.where(~temp_var.isna() )[0]])\n",
    "\n",
    "transform_rule=pd.concat([pd.DataFrame(unique_value,columns=['raw data']),\n",
    "            pd.DataFrame(np.zeros([len(unique_value),2]),\n",
    "                        columns=['transform data','bad rate'])],axis=1) \n",
    "for j in range(0,len(unique_value)):\n",
    "bad_num=len(np.where( (Y == 1) & (temp_var == unique_value[j]) )[0])\n",
    "all_num=len(np.where(temp_var == unique_value[j])[0])\n",
    "\n",
    "#计算badprob\n",
    "if all_num == 0:#防止all_num=0的情况，报错\n",
    "all_num=0.5  \n",
    "transform_rule.iloc[j,2] = 1.0000000*bad_num/all_num\n",
    "\n",
    "#按照badprob排序，给出转换后的数值\n",
    "transform_rule = transform_rule.sort_values(by='bad rate')\n",
    "transform_rule.iloc[:,1]=list(range(len(unique_value),0,-1))\n",
    "\n",
    "#保存转换规则\n",
    "object_transfer_rule[i] = transform_rule\n",
    "#转换变量\n",
    "for k in range(0,len(unique_value)):\n",
    "transfer_value = transform_rule.iloc[np.where(transform_rule.iloc[:,0] == unique_value[k])[0],1]\n",
    "object_transform.iloc[np.where(temp_var == unique_value[k])[0],i] = float(transfer_value)\n",
    "object_transform.iloc[np.where(object_transform.iloc[:,i] == 0)[0],i] = np.nan \n",
    "\n",
    "X_transformed = pd.concat([num_var,object_transform],axis = 1) \n"
   ]
  },
  {
   "cell_type": "code",
   "execution_count": null,
   "metadata": {},
   "outputs": [],
   "source": []
  }
 ],
 "metadata": {
  "interpreter": {
   "hash": "5330eba8000a87c548a69732a83fac8b9a9cf20d15cfa926158716717f1b7bd4"
  },
  "kernelspec": {
   "display_name": "Python 3.7.7 64-bit ('py37': conda)",
   "language": "python",
   "name": "python3"
  },
  "language_info": {
   "codemirror_mode": {
    "name": "ipython",
    "version": 3
   },
   "file_extension": ".py",
   "mimetype": "text/x-python",
   "name": "python",
   "nbconvert_exporter": "python",
   "pygments_lexer": "ipython3",
   "version": "3.7.7"
  },
  "orig_nbformat": 4
 },
 "nbformat": 4,
 "nbformat_minor": 2
}
