{
 "cells": [
  {
   "cell_type": "code",
   "execution_count": 93,
   "metadata": {},
   "outputs": [],
   "source": [
    "import pandas as pd\n",
    "import numpy as np\n",
    "import re\n",
    "import time\n",
    "import datetime\n",
    "from dateutil.relativedelta import relativedelta\n",
    "from sklearn.model_selection import train_test_split"
   ]
  },
  {
   "cell_type": "code",
   "execution_count": 94,
   "metadata": {},
   "outputs": [],
   "source": [
    "def CareerYear(x):\n",
    "    if pd.isna(x):\n",
    "        return -1\n",
    "    if len(x)==0:\n",
    "        return -1\n",
    "    if x.find('n/a') > -1:\n",
    "        return -1\n",
    "    elif x.find(\"10+\")>-1:\n",
    "        return 11\n",
    "    elif x.find('< 1') > -1:\n",
    "        return 0\n",
    "    else:\n",
    "        return int(re.sub(\"\\D\", \"\", x))\n",
    "\n",
    "\n",
    "def DescExisting(x):\n",
    "    x2 = str(x)\n",
    "    if x2 == 'nan':\n",
    "        return 'no desc'\n",
    "    else:\n",
    "        return 'desc'\n",
    "\n",
    "\n",
    "def ConvertDateStr(x,format):\n",
    "    if str(x) == 'nan':\n",
    "        return datetime.datetime.fromtimestamp(time.mktime(time.strptime('9900-1','%Y-%m')))\n",
    "    else:\n",
    "        return datetime.datetime.fromtimestamp(time.mktime(time.strptime(x,format)))\n",
    "\n",
    "\n",
    "def MonthGap(earlyDate, lateDate):\n",
    "    if lateDate > earlyDate:\n",
    "        gap = relativedelta(lateDate,earlyDate)\n",
    "        yr = gap.years\n",
    "        mth = gap.months\n",
    "        return yr*12+mth\n",
    "    else:\n",
    "        return 0\n",
    "\n",
    "\n",
    "def MakeupMissing(x):\n",
    "    if np.isnan(x):\n",
    "        return -1\n",
    "    else:\n",
    "        return x"
   ]
  },
  {
   "cell_type": "code",
   "execution_count": 27,
   "metadata": {},
   "outputs": [],
   "source": [
    "allData=pd.read_csv('application.csv',encoding=\"ISO-8859-1\")"
   ]
  },
  {
   "cell_type": "code",
   "execution_count": 28,
   "metadata": {},
   "outputs": [],
   "source": [
    "allData['term'] = allData['term'].apply(lambda x: int(x.replace(' months','')))"
   ]
  },
  {
   "cell_type": "code",
   "execution_count": 30,
   "metadata": {},
   "outputs": [],
   "source": [
    "# 处理标签：Fully Paid是正常用户；Charged Off是违约用户\n",
    "allData['y'] = allData['loan_status'].map(lambda x: int(x == 'Charged Off'))"
   ]
  },
  {
   "cell_type": "code",
   "execution_count": 31,
   "metadata": {},
   "outputs": [],
   "source": [
    "'''\n",
    "由于存在不同的贷款期限（term），申请评分卡模型评估的违约概率必须要在统一的期限中，且不宜太长，所以选取term＝36months的行本\n",
    "'''\n",
    "\n",
    "allData1 = allData.loc[allData.term == 36]"
   ]
  },
  {
   "cell_type": "code",
   "execution_count": 32,
   "metadata": {},
   "outputs": [
    {
     "data": {
      "text/plain": [
       "(29095, 26)"
      ]
     },
     "execution_count": 32,
     "metadata": {},
     "output_type": "execute_result"
    }
   ],
   "source": [
    "allData1.shape"
   ]
  },
  {
   "cell_type": "code",
   "execution_count": 33,
   "metadata": {},
   "outputs": [],
   "source": [
    "# 划分数据集合\n",
    "trainData, testData = train_test_split(allData1,test_size=0.4,random_state=666)"
   ]
  },
  {
   "cell_type": "code",
   "execution_count": 39,
   "metadata": {},
   "outputs": [
    {
     "data": {
      "text/plain": [
       "Index(['member_id', 'loan_amnt', 'term', 'loan_status', 'int_rate',\n",
       "       'emp_length', 'home_ownership', 'annual_inc', 'verification_status',\n",
       "       'desc', 'purpose', 'title', 'zip_code', 'addr_state', 'dti',\n",
       "       'delinq_2yrs', 'inq_last_6mths', 'mths_since_last_delinq',\n",
       "       'mths_since_last_record', 'open_acc', 'pub_rec', 'total_acc',\n",
       "       'pub_rec_bankruptcies', 'issue_d', 'earliest_cr_line', 'y'],\n",
       "      dtype='object')"
      ]
     },
     "execution_count": 39,
     "metadata": {},
     "output_type": "execute_result"
    }
   ],
   "source": [
    "trainData.columns"
   ]
  },
  {
   "cell_type": "code",
   "execution_count": 40,
   "metadata": {},
   "outputs": [
    {
     "data": {
      "text/html": [
       "<div>\n",
       "<style scoped>\n",
       "    .dataframe tbody tr th:only-of-type {\n",
       "        vertical-align: middle;\n",
       "    }\n",
       "\n",
       "    .dataframe tbody tr th {\n",
       "        vertical-align: top;\n",
       "    }\n",
       "\n",
       "    .dataframe thead th {\n",
       "        text-align: right;\n",
       "    }\n",
       "</style>\n",
       "<table border=\"1\" class=\"dataframe\">\n",
       "  <thead>\n",
       "    <tr style=\"text-align: right;\">\n",
       "      <th></th>\n",
       "      <th>int_rate</th>\n",
       "      <th>emp_length</th>\n",
       "      <th>desc</th>\n",
       "      <th>issue_d</th>\n",
       "      <th>earliest_cr_line</th>\n",
       "      <th>mths_since_last_delinq</th>\n",
       "      <th>mths_since_last_record</th>\n",
       "      <th>pub_rec_bankruptcies</th>\n",
       "    </tr>\n",
       "  </thead>\n",
       "  <tbody>\n",
       "    <tr>\n",
       "      <th>36814</th>\n",
       "      <td>9.63%</td>\n",
       "      <td>8 years</td>\n",
       "      <td>This will be used to pay off an existing vehi...</td>\n",
       "      <td>May-09</td>\n",
       "      <td>Jun-91</td>\n",
       "      <td>NaN</td>\n",
       "      <td>NaN</td>\n",
       "      <td>0.0</td>\n",
       "    </tr>\n",
       "    <tr>\n",
       "      <th>328</th>\n",
       "      <td>9.91%</td>\n",
       "      <td>10+ years</td>\n",
       "      <td>Borrower added on 12/11/11 &gt; This loan is to...</td>\n",
       "      <td>Dec-11</td>\n",
       "      <td>Mar-98</td>\n",
       "      <td>NaN</td>\n",
       "      <td>NaN</td>\n",
       "      <td>0.0</td>\n",
       "    </tr>\n",
       "    <tr>\n",
       "      <th>17761</th>\n",
       "      <td>16.02%</td>\n",
       "      <td>&lt; 1 year</td>\n",
       "      <td>Borrower added on 03/24/11 &gt; I am in love an...</td>\n",
       "      <td>Mar-11</td>\n",
       "      <td>Apr-07</td>\n",
       "      <td>NaN</td>\n",
       "      <td>64.0</td>\n",
       "      <td>0.0</td>\n",
       "    </tr>\n",
       "    <tr>\n",
       "      <th>10056</th>\n",
       "      <td>11.49%</td>\n",
       "      <td>3 years</td>\n",
       "      <td>I plan to use the loan funds to pay off my cre...</td>\n",
       "      <td>Aug-11</td>\n",
       "      <td>Feb-93</td>\n",
       "      <td>31.0</td>\n",
       "      <td>NaN</td>\n",
       "      <td>0.0</td>\n",
       "    </tr>\n",
       "    <tr>\n",
       "      <th>3965</th>\n",
       "      <td>6.03%</td>\n",
       "      <td>2 years</td>\n",
       "      <td>NaN</td>\n",
       "      <td>Nov-11</td>\n",
       "      <td>Dec-97</td>\n",
       "      <td>NaN</td>\n",
       "      <td>NaN</td>\n",
       "      <td>0.0</td>\n",
       "    </tr>\n",
       "    <tr>\n",
       "      <th>...</th>\n",
       "      <td>...</td>\n",
       "      <td>...</td>\n",
       "      <td>...</td>\n",
       "      <td>...</td>\n",
       "      <td>...</td>\n",
       "      <td>...</td>\n",
       "      <td>...</td>\n",
       "      <td>...</td>\n",
       "    </tr>\n",
       "    <tr>\n",
       "      <th>4241</th>\n",
       "      <td>6.62%</td>\n",
       "      <td>10+ years</td>\n",
       "      <td>Borrower added on 10/28/11 &gt; pay off my cred...</td>\n",
       "      <td>Nov-11</td>\n",
       "      <td>Jan-99</td>\n",
       "      <td>NaN</td>\n",
       "      <td>NaN</td>\n",
       "      <td>0.0</td>\n",
       "    </tr>\n",
       "    <tr>\n",
       "      <th>37216</th>\n",
       "      <td>13.47%</td>\n",
       "      <td>2 years</td>\n",
       "      <td>Id like to pay off my credit card debt complet...</td>\n",
       "      <td>Apr-09</td>\n",
       "      <td>Feb-05</td>\n",
       "      <td>NaN</td>\n",
       "      <td>NaN</td>\n",
       "      <td>0.0</td>\n",
       "    </tr>\n",
       "    <tr>\n",
       "      <th>11409</th>\n",
       "      <td>5.42%</td>\n",
       "      <td>7 years</td>\n",
       "      <td>Borrower added on 07/14/11 &gt; FOR 1995 WELLCR...</td>\n",
       "      <td>Jul-11</td>\n",
       "      <td>Mar-97</td>\n",
       "      <td>NaN</td>\n",
       "      <td>NaN</td>\n",
       "      <td>0.0</td>\n",
       "    </tr>\n",
       "    <tr>\n",
       "      <th>15217</th>\n",
       "      <td>8.49%</td>\n",
       "      <td>10+ years</td>\n",
       "      <td>NaN</td>\n",
       "      <td>May-11</td>\n",
       "      <td>Jan-98</td>\n",
       "      <td>15.0</td>\n",
       "      <td>NaN</td>\n",
       "      <td>0.0</td>\n",
       "    </tr>\n",
       "    <tr>\n",
       "      <th>33454</th>\n",
       "      <td>12.18%</td>\n",
       "      <td>4 years</td>\n",
       "      <td>590964 added on 12/14/09 &gt; We will be using ...</td>\n",
       "      <td>Dec-09</td>\n",
       "      <td>Sep-90</td>\n",
       "      <td>NaN</td>\n",
       "      <td>NaN</td>\n",
       "      <td>0.0</td>\n",
       "    </tr>\n",
       "  </tbody>\n",
       "</table>\n",
       "<p>17457 rows × 8 columns</p>\n",
       "</div>"
      ],
      "text/plain": [
       "      int_rate emp_length                                               desc  \\\n",
       "36814    9.63%    8 years   This will be used to pay off an existing vehi...   \n",
       "328      9.91%  10+ years    Borrower added on 12/11/11 > This loan is to...   \n",
       "17761   16.02%   < 1 year    Borrower added on 03/24/11 > I am in love an...   \n",
       "10056   11.49%    3 years  I plan to use the loan funds to pay off my cre...   \n",
       "3965     6.03%    2 years                                                NaN   \n",
       "...        ...        ...                                                ...   \n",
       "4241     6.62%  10+ years    Borrower added on 10/28/11 > pay off my cred...   \n",
       "37216   13.47%    2 years  Id like to pay off my credit card debt complet...   \n",
       "11409    5.42%    7 years    Borrower added on 07/14/11 > FOR 1995 WELLCR...   \n",
       "15217    8.49%  10+ years                                                NaN   \n",
       "33454   12.18%    4 years    590964 added on 12/14/09 > We will be using ...   \n",
       "\n",
       "      issue_d earliest_cr_line  mths_since_last_delinq  \\\n",
       "36814  May-09           Jun-91                     NaN   \n",
       "328    Dec-11           Mar-98                     NaN   \n",
       "17761  Mar-11           Apr-07                     NaN   \n",
       "10056  Aug-11           Feb-93                    31.0   \n",
       "3965   Nov-11           Dec-97                     NaN   \n",
       "...       ...              ...                     ...   \n",
       "4241   Nov-11           Jan-99                     NaN   \n",
       "37216  Apr-09           Feb-05                     NaN   \n",
       "11409  Jul-11           Mar-97                     NaN   \n",
       "15217  May-11           Jan-98                    15.0   \n",
       "33454  Dec-09           Sep-90                     NaN   \n",
       "\n",
       "       mths_since_last_record  pub_rec_bankruptcies  \n",
       "36814                     NaN                   0.0  \n",
       "328                       NaN                   0.0  \n",
       "17761                    64.0                   0.0  \n",
       "10056                     NaN                   0.0  \n",
       "3965                      NaN                   0.0  \n",
       "...                       ...                   ...  \n",
       "4241                      NaN                   0.0  \n",
       "37216                     NaN                   0.0  \n",
       "11409                     NaN                   0.0  \n",
       "15217                     NaN                   0.0  \n",
       "33454                     NaN                   0.0  \n",
       "\n",
       "[17457 rows x 8 columns]"
      ]
     },
     "execution_count": 40,
     "metadata": {},
     "output_type": "execute_result"
    }
   ],
   "source": [
    "list11=['int_rate','emp_length','desc','issue_d','earliest_cr_line','mths_since_last_delinq','mths_since_last_record','pub_rec_bankruptcies']\n",
    "\n",
    "# trainData.loc[:,['int_rate','emp_length']]\n",
    "trainData.loc[:,list11]"
   ]
  },
  {
   "cell_type": "code",
   "execution_count": 95,
   "metadata": {},
   "outputs": [
    {
     "name": "stderr",
     "output_type": "stream",
     "text": [
      "/Users/gengbh/anaconda3/envs/py37/lib/python3.7/site-packages/ipykernel_launcher.py:2: SettingWithCopyWarning: \n",
      "A value is trying to be set on a copy of a slice from a DataFrame.\n",
      "Try using .loc[row_indexer,col_indexer] = value instead\n",
      "\n",
      "See the caveats in the documentation: https://pandas.pydata.org/pandas-docs/stable/user_guide/indexing.html#returning-a-view-versus-a-copy\n",
      "  \n",
      "/Users/gengbh/anaconda3/envs/py37/lib/python3.7/site-packages/ipykernel_launcher.py:4: SettingWithCopyWarning: \n",
      "A value is trying to be set on a copy of a slice from a DataFrame.\n",
      "Try using .loc[row_indexer,col_indexer] = value instead\n",
      "\n",
      "See the caveats in the documentation: https://pandas.pydata.org/pandas-docs/stable/user_guide/indexing.html#returning-a-view-versus-a-copy\n",
      "  after removing the cwd from sys.path.\n",
      "/Users/gengbh/anaconda3/envs/py37/lib/python3.7/site-packages/ipykernel_launcher.py:6: SettingWithCopyWarning: \n",
      "A value is trying to be set on a copy of a slice from a DataFrame.\n",
      "Try using .loc[row_indexer,col_indexer] = value instead\n",
      "\n",
      "See the caveats in the documentation: https://pandas.pydata.org/pandas-docs/stable/user_guide/indexing.html#returning-a-view-versus-a-copy\n",
      "  \n",
      "/Users/gengbh/anaconda3/envs/py37/lib/python3.7/site-packages/ipykernel_launcher.py:9: SettingWithCopyWarning: \n",
      "A value is trying to be set on a copy of a slice from a DataFrame.\n",
      "Try using .loc[row_indexer,col_indexer] = value instead\n",
      "\n",
      "See the caveats in the documentation: https://pandas.pydata.org/pandas-docs/stable/user_guide/indexing.html#returning-a-view-versus-a-copy\n",
      "  if __name__ == '__main__':\n",
      "/Users/gengbh/anaconda3/envs/py37/lib/python3.7/site-packages/ipykernel_launcher.py:10: SettingWithCopyWarning: \n",
      "A value is trying to be set on a copy of a slice from a DataFrame.\n",
      "Try using .loc[row_indexer,col_indexer] = value instead\n",
      "\n",
      "See the caveats in the documentation: https://pandas.pydata.org/pandas-docs/stable/user_guide/indexing.html#returning-a-view-versus-a-copy\n",
      "  # Remove the CWD from sys.path while we load stuff.\n",
      "/Users/gengbh/anaconda3/envs/py37/lib/python3.7/site-packages/ipykernel_launcher.py:13: SettingWithCopyWarning: \n",
      "A value is trying to be set on a copy of a slice from a DataFrame.\n",
      "Try using .loc[row_indexer,col_indexer] = value instead\n",
      "\n",
      "See the caveats in the documentation: https://pandas.pydata.org/pandas-docs/stable/user_guide/indexing.html#returning-a-view-versus-a-copy\n",
      "  del sys.path[0]\n",
      "/Users/gengbh/anaconda3/envs/py37/lib/python3.7/site-packages/ipykernel_launcher.py:15: SettingWithCopyWarning: \n",
      "A value is trying to be set on a copy of a slice from a DataFrame.\n",
      "Try using .loc[row_indexer,col_indexer] = value instead\n",
      "\n",
      "See the caveats in the documentation: https://pandas.pydata.org/pandas-docs/stable/user_guide/indexing.html#returning-a-view-versus-a-copy\n",
      "  from ipykernel import kernelapp as app\n",
      "/Users/gengbh/anaconda3/envs/py37/lib/python3.7/site-packages/ipykernel_launcher.py:17: SettingWithCopyWarning: \n",
      "A value is trying to be set on a copy of a slice from a DataFrame.\n",
      "Try using .loc[row_indexer,col_indexer] = value instead\n",
      "\n",
      "See the caveats in the documentation: https://pandas.pydata.org/pandas-docs/stable/user_guide/indexing.html#returning-a-view-versus-a-copy\n"
     ]
    }
   ],
   "source": [
    "# 将带％的百分比变为浮点数\n",
    "trainData['int_rate_clean'] = trainData['int_rate'].map(lambda x: float(x.replace('%',''))/100)\n",
    "# 将工作年限进行转化，否则影响排序\n",
    "trainData['emp_length_clean'] = trainData['emp_length'].map(CareerYear)\n",
    "# 将desc的缺失作为一种状态，非缺失作为另一种状态\n",
    "trainData['desc_clean'] = trainData['desc'].map(DescExisting)\n",
    "\n",
    "# 处理日期。earliest_cr_line的格式不统一，需要统一格式且转换成python的日期\n",
    "trainData['app_date_clean'] = trainData['issue_d'].map(lambda x: ConvertDateStr(x,'%b-%y'))\n",
    "trainData['earliest_cr_line_clean'] = trainData['earliest_cr_line'].map(lambda x: ConvertDateStr(x,'%b-%y'))\n",
    "\n",
    "# 处理mths_since_last_delinq。注意原始值中有0，所以用－1代替缺失\n",
    "trainData['mths_since_last_delinq_clean'] = trainData['mths_since_last_delinq'].map(lambda x:MakeupMissing(x))\n",
    "\n",
    "trainData['mths_since_last_record_clean'] = trainData['mths_since_last_record'].map(lambda x:MakeupMissing(x))\n",
    "\n",
    "trainData['pub_rec_bankruptcies_clean'] = trainData['pub_rec_bankruptcies'].map(lambda x:MakeupMissing(x))"
   ]
  },
  {
   "cell_type": "code",
   "execution_count": 100,
   "metadata": {},
   "outputs": [
    {
     "name": "stderr",
     "output_type": "stream",
     "text": [
      "/Users/gengbh/anaconda3/envs/py37/lib/python3.7/site-packages/ipykernel_launcher.py:5: SettingWithCopyWarning: \n",
      "A value is trying to be set on a copy of a slice from a DataFrame.\n",
      "Try using .loc[row_indexer,col_indexer] = value instead\n",
      "\n",
      "See the caveats in the documentation: https://pandas.pydata.org/pandas-docs/stable/user_guide/indexing.html#returning-a-view-versus-a-copy\n",
      "  \"\"\"\n",
      "/Users/gengbh/anaconda3/envs/py37/lib/python3.7/site-packages/ipykernel_launcher.py:8: SettingWithCopyWarning: \n",
      "A value is trying to be set on a copy of a slice from a DataFrame.\n",
      "Try using .loc[row_indexer,col_indexer] = value instead\n",
      "\n",
      "See the caveats in the documentation: https://pandas.pydata.org/pandas-docs/stable/user_guide/indexing.html#returning-a-view-versus-a-copy\n",
      "  \n"
     ]
    }
   ],
   "source": [
    "'''\n",
    "第二步：变量衍生\n",
    "'''\n",
    "# 考虑申请额度与收入的占比\n",
    "trainData['limit_income'] = trainData.apply(lambda x: x.loan_amnt / x.annual_inc, axis = 1)\n",
    "\n",
    "# 考虑earliest_cr_line到申请日期的跨度，以月份记\n",
    "trainData['earliest_cr_to_app'] = trainData.apply(lambda x: MonthGap(x.earliest_cr_line_clean,x.app_date_clean), axis = 1)"
   ]
  },
  {
   "cell_type": "code",
   "execution_count": 101,
   "metadata": {},
   "outputs": [],
   "source": [
    "'''\n",
    "第三步：分箱，采用ChiMerge,要求分箱完之后：\n",
    "（1）不超过5箱\n",
    "（2）Bad Rate单调\n",
    "（3）每箱同时包含好坏样本\n",
    "（4）特殊值如－1，单独成一箱\n",
    "\n",
    "连续型变量可直接分箱\n",
    "类别型变量：\n",
    "（a）当取值较多时，先用bad rate编码，再用连续型分箱的方式进行分箱\n",
    "（b）当取值较少时：\n",
    "    （b1）如果每种类别同时包含好坏样本，无需分箱\n",
    "    （b2）如果有类别只包含好坏样本的一种，需要合并\n",
    "'''\n",
    "num_features = ['int_rate_clean','emp_length_clean','annual_inc', 'dti', 'delinq_2yrs', 'earliest_cr_to_app','inq_last_6mths', \\\n",
    "                'mths_since_last_record_clean', 'mths_since_last_delinq_clean','open_acc','pub_rec','total_acc']\n",
    "\n",
    "cat_features = ['home_ownership', 'verification_status','desc_clean', 'purpose', 'zip_code','addr_state','pub_rec_bankruptcies_clean']\n"
   ]
  },
  {
   "cell_type": "code",
   "execution_count": 104,
   "metadata": {},
   "outputs": [],
   "source": [
    "more_value_features = []\n",
    "less_value_features = []\n",
    "# 第一步，检查类别型变量中，哪些变量取值超过5\n",
    "for var in cat_features:\n",
    "    valueCounts = len(set(trainData[var]))\n",
    "    # print valueCounts\n",
    "    if valueCounts > 5:\n",
    "        more_value_features.append(var)\n",
    "    else:\n",
    "        less_value_features.append(var)\n"
   ]
  },
  {
   "cell_type": "code",
   "execution_count": 106,
   "metadata": {},
   "outputs": [
    {
     "data": {
      "text/plain": [
       "['home_ownership',\n",
       " 'verification_status',\n",
       " 'desc_clean',\n",
       " 'pub_rec_bankruptcies_clean']"
      ]
     },
     "execution_count": 106,
     "metadata": {},
     "output_type": "execute_result"
    }
   ],
   "source": [
    "less_value_features"
   ]
  },
  {
   "cell_type": "code",
   "execution_count": 119,
   "metadata": {},
   "outputs": [],
   "source": [
    "def BinBadRate(df, col, target, grantRateIndicator=0):\n",
    "    '''\n",
    "    :param df: 需要计算好坏比率的数据集\n",
    "    :param col: 需要计算好坏比率的特征\n",
    "    :param target: 好坏标签\n",
    "    :param grantRateIndicator: 1返回总体的坏样本率，0不返回\n",
    "    :return: 每箱的坏样本率，以及总体的坏样本率（当grantRateIndicator＝＝1时）\n",
    "    '''\n",
    "    total = df.groupby([col])[target].count()\n",
    "    total = pd.DataFrame({'total': total})\n",
    "    bad = df.groupby([col])[target].sum()\n",
    "    bad = pd.DataFrame({'bad': bad})\n",
    "    regroup = total.merge(bad, left_index=True, right_index=True, how='left')\n",
    "    regroup.reset_index(level=0, inplace=True)\n",
    "    regroup['bad_rate'] = regroup.apply(lambda x: x.bad * 1.0 / x.total, axis=1)\n",
    "    dicts = dict(zip(regroup[col],regroup['bad_rate']))\n",
    "    if grantRateIndicator==0:\n",
    "        return (dicts, regroup)\n",
    "    N = sum(regroup['total'])\n",
    "    B = sum(regroup['bad'])\n",
    "    overallRate = B * 1.0 / N\n",
    "    return (dicts, regroup, overallRate)\n",
    " ### If we find any categories with 0 bad, then we combine these categories with that having smallest non-zero bad rate\n",
    "def MergeBad0(df,col,target):\n",
    "    '''\n",
    "     :param df: dataframe containing feature and target\n",
    "     :param col: the feature that needs to be calculated the WOE and iv, usually categorical type\n",
    "     :param target: good/bad indicator\n",
    "     :return: WOE and IV in a dictionary\n",
    "     '''\n",
    "    regroup = BinBadRate(df, col, target)[1]\n",
    "    regroup = regroup.sort_values(by  = 'bad_rate')\n",
    "    col_regroup = [[i] for i in regroup[col]]\n",
    "    for i in range(regroup.shape[0]-1):\n",
    "        col_regroup[i+1] = col_regroup[i] + col_regroup[i+1]\n",
    "        col_regroup.pop(i)\n",
    "        if regroup['bad_rate'][i+1] > 0:\n",
    "            break\n",
    "    newGroup = {}\n",
    "    for i in range(len(col_regroup)):\n",
    "        for g2 in col_regroup[i]:\n",
    "            newGroup[g2] = 'Bin '+str(i)\n",
    "    return newGroup   \n",
    "\n",
    "\n",
    "def BadRateEncoding(df, col, target):\n",
    "    '''\n",
    "    :param df: dataframe containing feature and target\n",
    "    :param col: the feature that needs to be encoded with bad rate, usually categorical type\n",
    "    :param target: good/bad indicator\n",
    "    :return: the assigned bad rate to encode the categorical feature\n",
    "    '''\n",
    "    regroup = BinBadRate(df, col, target, grantRateIndicator=0)[1]\n",
    "    br_dict = regroup[[col,'bad_rate']].set_index([col]).to_dict(orient='index')\n",
    "    for k, v in br_dict.items():\n",
    "        br_dict[k] = v['bad_rate']\n",
    "    badRateEnconding = df[col].map(lambda x: br_dict[x])\n",
    "    return {'encoding':badRateEnconding, 'bad_rate':br_dict}"
   ]
  },
  {
   "cell_type": "code",
   "execution_count": 114,
   "metadata": {},
   "outputs": [
    {
     "name": "stdout",
     "output_type": "stream",
     "text": [
      "home_ownership need to be combined\n",
      "pub_rec_bankruptcies_clean need to be combined\n"
     ]
    }
   ],
   "source": [
    "# （i）当取值<5时：如果每种类别同时包含好坏样本，无需分箱；如果有类别只包含好坏样本的一种，需要合并\n",
    "merge_bin = {}\n",
    "for col in less_value_features:\n",
    "    binBadRate = BinBadRate(trainData, col, 'y')[0]\n",
    "    if min(binBadRate.values()) == 0 or max(binBadRate.values()) == 1:\n",
    "        print('{} need to be combined'.format(col))\n",
    "        combine_bin = MergeBad0(trainData, col, 'y')\n",
    "        merge_bin[col] = combine_bin\n",
    "\n"
   ]
  },
  {
   "cell_type": "code",
   "execution_count": 117,
   "metadata": {},
   "outputs": [
    {
     "data": {
      "text/plain": [
       "{'NONE': 'Bin 0',\n",
       " 'MORTGAGE': 'Bin 0',\n",
       " 'OWN': 'Bin 1',\n",
       " 'RENT': 'Bin 1',\n",
       " 'OTHER': 'Bin 2'}"
      ]
     },
     "execution_count": 117,
     "metadata": {},
     "output_type": "execute_result"
    }
   ],
   "source": [
    "merge_bin.get('home_ownership')"
   ]
  },
  {
   "cell_type": "code",
   "execution_count": 121,
   "metadata": {},
   "outputs": [
    {
     "ename": "NameError",
     "evalue": "name 'target' is not defined",
     "output_type": "error",
     "traceback": [
      "\u001b[0;31m---------------------------------------------------------------------------\u001b[0m",
      "\u001b[0;31mNameError\u001b[0m                                 Traceback (most recent call last)",
      "\u001b[0;32m<ipython-input-121-a9078b4c2f28>\u001b[0m in \u001b[0;36m<module>\u001b[0;34m\u001b[0m\n\u001b[1;32m      2\u001b[0m \u001b[0mbr_encoding_dict\u001b[0m \u001b[0;34m=\u001b[0m \u001b[0;34m{\u001b[0m\u001b[0;34m}\u001b[0m\u001b[0;34m\u001b[0m\u001b[0;34m\u001b[0m\u001b[0m\n\u001b[1;32m      3\u001b[0m \u001b[0;32mfor\u001b[0m \u001b[0mcol\u001b[0m \u001b[0;32min\u001b[0m \u001b[0mmore_value_features\u001b[0m\u001b[0;34m:\u001b[0m\u001b[0;34m\u001b[0m\u001b[0;34m\u001b[0m\u001b[0m\n\u001b[0;32m----> 4\u001b[0;31m     \u001b[0mbr_encoding\u001b[0m \u001b[0;34m=\u001b[0m \u001b[0mBadRateEncoding\u001b[0m\u001b[0;34m(\u001b[0m\u001b[0mtrainData\u001b[0m\u001b[0;34m,\u001b[0m \u001b[0mcol\u001b[0m\u001b[0;34m,\u001b[0m \u001b[0mtarget\u001b[0m\u001b[0;34m)\u001b[0m\u001b[0;34m\u001b[0m\u001b[0;34m\u001b[0m\u001b[0m\n\u001b[0m\u001b[1;32m      5\u001b[0m     \u001b[0mtrainData\u001b[0m\u001b[0;34m[\u001b[0m\u001b[0mcol\u001b[0m\u001b[0;34m+\u001b[0m\u001b[0;34m'_br_encoding'\u001b[0m\u001b[0;34m]\u001b[0m \u001b[0;34m=\u001b[0m \u001b[0mbr_encoding\u001b[0m\u001b[0;34m[\u001b[0m\u001b[0;34m'encoding'\u001b[0m\u001b[0;34m]\u001b[0m\u001b[0;34m\u001b[0m\u001b[0;34m\u001b[0m\u001b[0m\n\u001b[1;32m      6\u001b[0m     \u001b[0mbr_encoding_dict\u001b[0m\u001b[0;34m[\u001b[0m\u001b[0mcol\u001b[0m\u001b[0;34m]\u001b[0m \u001b[0;34m=\u001b[0m \u001b[0mbr_encoding\u001b[0m\u001b[0;34m[\u001b[0m\u001b[0;34m'bad_rate'\u001b[0m\u001b[0;34m]\u001b[0m\u001b[0;34m\u001b[0m\u001b[0;34m\u001b[0m\u001b[0m\n",
      "\u001b[0;31mNameError\u001b[0m: name 'target' is not defined"
     ]
    }
   ],
   "source": [
    "\n",
    "# （ii）当取值>5时：用bad rate进行编码，放入连续型变量里\n",
    "br_encoding_dict = {}\n",
    "for col in more_value_features:\n",
    "    br_encoding = BadRateEncoding(trainData, col, target)\n",
    "    trainData[col+'_br_encoding'] = br_encoding['encoding']\n",
    "    br_encoding_dict[col] = br_encoding['bad_rate']\n",
    "    num_features.append(col+'_br_encoding')\n"
   ]
  },
  {
   "cell_type": "code",
   "execution_count": null,
   "metadata": {},
   "outputs": [],
   "source": [
    "\n",
    "# （iii）对连续型变量进行分箱，包括（ii）中的变量\n",
    "for col in num_features:\n",
    "    print \"{} is in processing\".format(col)\n",
    "    if -1 not in set(trainData[col]):\n",
    "        max_interval = 5\n",
    "        cutOff = ChiMerge(trainData, col, target, max_interval=max_interval,special_attribute=[],minBinPcnt=0)\n",
    "        trainData[col+'_Bin'] = trainData[col].map(lambda x: AssignBin(x, cutOff,special_attribute=[]))\n",
    "        monotone = BadRateMonotone(trainData, col+'_Bin', 'y')\n",
    "        while(not monotone):\n",
    "            max_interval -= 1\n",
    "            cutOff = ChiMerge(trainData, col, target, max_interval=max_interval, special_attribute=[],\n",
    "                                          minBinPcnt=0)\n",
    "            trainData[col + '_Bin'] = trainData[col].map(lambda x: AssignBin(x, cutOff, special_attribute=[]))\n",
    "            if max_interval == 2:\n",
    "                # 当分箱数为2时，必然单调\n",
    "                break\n",
    "            monotone = BadRateMonotone(trainData, col + '_Bin', 'y')\n",
    "    else:\n",
    "        max_interval = 5\n",
    "        cutOff = ChiMerge(trainData, col, target, max_interval=max_interval, special_attribute=[-1],\n",
    "                                      minBinPcnt=0)\n",
    "        trainData[col + '_Bin'] = trainData[col].map(lambda x: AssignBin(x, cutOff, special_attribute=[-1]))\n",
    "        monotone = BadRateMonotone(trainData, col + '_Bin', 'y')\n",
    "        while (not monotone):\n",
    "            max_interval -= 1\n",
    "            cutOff = ChiMerge(trainData, col, target, max_interval=max_interval, special_attribute=[-1],\n",
    "                                          minBinPcnt=0)\n",
    "            trainData[col + '_Bin'] = trainData[col].map(lambda x: AssignBin(x, cutOff, special_attribute=[-1]))\n",
    "            if max_interval == 2:\n",
    "                # 当分箱数为2时，必然单调\n",
    "                break\n",
    "            monotone = BadRateMonotone(trainData, col + '_Bin', 'y')"
   ]
  },
  {
   "cell_type": "code",
   "execution_count": null,
   "metadata": {},
   "outputs": [],
   "source": []
  }
 ],
 "metadata": {
  "interpreter": {
   "hash": "5330eba8000a87c548a69732a83fac8b9a9cf20d15cfa926158716717f1b7bd4"
  },
  "kernelspec": {
   "display_name": "Python 3.7.7 64-bit ('py37': conda)",
   "language": "python",
   "name": "python3"
  },
  "language_info": {
   "codemirror_mode": {
    "name": "ipython",
    "version": 3
   },
   "file_extension": ".py",
   "mimetype": "text/x-python",
   "name": "python",
   "nbconvert_exporter": "python",
   "pygments_lexer": "ipython3",
   "version": "3.7.7"
  },
  "orig_nbformat": 4
 },
 "nbformat": 4,
 "nbformat_minor": 2
}
