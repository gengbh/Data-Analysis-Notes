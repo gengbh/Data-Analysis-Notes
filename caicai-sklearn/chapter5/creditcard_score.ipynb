{
 "metadata": {
  "language_info": {
   "codemirror_mode": {
    "name": "ipython",
    "version": 3
   },
   "file_extension": ".py",
   "mimetype": "text/x-python",
   "name": "python",
   "nbconvert_exporter": "python",
   "pygments_lexer": "ipython3",
   "version": "3.7.7"
  },
  "orig_nbformat": 2,
  "kernelspec": {
   "name": "python377jvsc74a57bd07f4adbc6b70afedd81f519f245fba20762d24430f7950260fbea43d59748b96b",
   "display_name": "Python 3.7.7 64-bit ('py37': conda)"
  }
 },
 "nbformat": 4,
 "nbformat_minor": 2,
 "cells": [
  {
   "source": [
    "# 使用逻辑回归构建信用评分卡"
   ],
   "cell_type": "markdown",
   "metadata": {}
  },
  {
   "source": [
    "**导入包**"
   ],
   "cell_type": "markdown",
   "metadata": {}
  },
  {
   "cell_type": "code",
   "execution_count": 1,
   "metadata": {},
   "outputs": [],
   "source": [
    "import numpy as np\n",
    "import pandas as pd\n",
    "from sklearn.linear_model import LogisticRegression as LR\n"
   ]
  },
  {
   "source": [
    "**读取数据**"
   ],
   "cell_type": "markdown",
   "metadata": {}
  },
  {
   "cell_type": "code",
   "execution_count": 9,
   "metadata": {},
   "outputs": [],
   "source": [
    "dat=pd.read_csv('day08_rankingcard.csv')\n",
    "# dat.head(5)"
   ]
  },
  {
   "source": [
    "## 数据探查"
   ],
   "cell_type": "markdown",
   "metadata": {}
  },
  {
   "cell_type": "code",
   "execution_count": 4,
   "metadata": {
    "tags": []
   },
   "outputs": [
    {
     "output_type": "stream",
     "name": "stdout",
     "text": [
      "(150000, 12)\n------------\n<class 'pandas.core.frame.DataFrame'>\nRangeIndex: 150000 entries, 0 to 149999\nData columns (total 12 columns):\n #   Column                                Non-Null Count   Dtype  \n---  ------                                --------------   -----  \n 0   Unnamed: 0                            150000 non-null  int64  \n 1   SeriousDlqin2yrs                      150000 non-null  int64  \n 2   RevolvingUtilizationOfUnsecuredLines  150000 non-null  float64\n 3   age                                   150000 non-null  int64  \n 4   NumberOfTime30-59DaysPastDueNotWorse  150000 non-null  int64  \n 5   DebtRatio                             150000 non-null  float64\n 6   MonthlyIncome                         120269 non-null  float64\n 7   NumberOfOpenCreditLinesAndLoans       150000 non-null  int64  \n 8   NumberOfTimes90DaysLate               150000 non-null  int64  \n 9   NumberRealEstateLoansOrLines          150000 non-null  int64  \n 10  NumberOfTime60-89DaysPastDueNotWorse  150000 non-null  int64  \n 11  NumberOfDependents                    146076 non-null  float64\ndtypes: float64(4), int64(8)\nmemory usage: 13.7 MB\nNone\n"
     ]
    }
   ],
   "source": [
    "print(dat.shape)\n",
    "print('------------')\n",
    "print(dat.info())"
   ]
  },
  {
   "cell_type": "code",
   "execution_count": 10,
   "metadata": {},
   "outputs": [],
   "source": [
    "#去除重复值\n",
    "dat.drop_duplicates(inplace=True)"
   ]
  },
  {
   "cell_type": "code",
   "execution_count": 12,
   "metadata": {},
   "outputs": [
    {
     "output_type": "execute_result",
     "data": {
      "text/plain": [
       "(150000, 12)"
      ]
     },
     "metadata": {},
     "execution_count": 12
    }
   ],
   "source": [
    "dat.shape"
   ]
  },
  {
   "cell_type": "code",
   "execution_count": 13,
   "metadata": {},
   "outputs": [
    {
     "output_type": "execute_result",
     "data": {
      "text/plain": [
       "Unnamed: 0                              0.000000\n",
       "SeriousDlqin2yrs                        0.000000\n",
       "RevolvingUtilizationOfUnsecuredLines    0.000000\n",
       "age                                     0.000000\n",
       "NumberOfTime30-59DaysPastDueNotWorse    0.000000\n",
       "DebtRatio                               0.000000\n",
       "MonthlyIncome                           0.198207\n",
       "NumberOfOpenCreditLinesAndLoans         0.000000\n",
       "NumberOfTimes90DaysLate                 0.000000\n",
       "NumberRealEstateLoansOrLines            0.000000\n",
       "NumberOfTime60-89DaysPastDueNotWorse    0.000000\n",
       "NumberOfDependents                      0.026160\n",
       "dtype: float64"
      ]
     },
     "metadata": {},
     "execution_count": 13
    }
   ],
   "source": [
    "# 缺失值\n",
    "# 计算缺失比例\n",
    "dat.isnull().mean()\n",
    "\n",
    "# dat.isnull().sum()/dat.shape[0]"
   ]
  },
  {
   "cell_type": "code",
   "execution_count": 19,
   "metadata": {},
   "outputs": [
    {
     "output_type": "execute_result",
     "data": {
      "text/plain": [
       "0.7374133333333334"
      ]
     },
     "metadata": {},
     "execution_count": 19
    }
   ],
   "source": [
    "dat['NumberOfDependents'].mean()"
   ]
  },
  {
   "cell_type": "code",
   "execution_count": 17,
   "metadata": {},
   "outputs": [],
   "source": [
    "#使用均值填充 NumberOfDependents字段\n",
    "dat['NumberOfDependents'].fillna(int(dat['NumberOfDependents'].mean()),inplace=True)"
   ]
  },
  {
   "cell_type": "code",
   "execution_count": null,
   "metadata": {},
   "outputs": [],
   "source": [
    "# 使用随机森林填充 MonthlyIncome 月收入的缺失值\n",
    "\n",
    "\n"
   ]
  }
 ]
}