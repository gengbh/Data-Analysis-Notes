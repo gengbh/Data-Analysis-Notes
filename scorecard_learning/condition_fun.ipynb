{
 "cells": [
  {
   "cell_type": "code",
   "execution_count": 14,
   "source": [
    "# 信用卡数据\n",
    "dat = pd.read_csv(\"/Users/gengbh/code/vscode/Data-Analysis-Notes/caicai-sklearn/5逻辑回归/day08_rankingcard.csv\",index_col=0)"
   ],
   "outputs": [],
   "metadata": {}
  },
  {
   "cell_type": "markdown",
   "source": [
    "# scorecard 依赖方法"
   ],
   "metadata": {}
  },
  {
   "cell_type": "markdown",
   "source": [
    "**导入包**"
   ],
   "metadata": {}
  },
  {
   "cell_type": "code",
   "execution_count": 1,
   "source": [
    "import pandas as pd\n",
    "import numpy as np\n",
    "import warnings\n",
    "import re\n",
    "from pandas.api.types import is_numeric_dtype"
   ],
   "outputs": [],
   "metadata": {}
  },
  {
   "cell_type": "markdown",
   "source": [
    "**将列表转为string类型**"
   ],
   "metadata": {}
  },
  {
   "cell_type": "code",
   "execution_count": 3,
   "source": [
    "def str_to_list(x):\n",
    "    if x is not None and isinstance(x, str):\n",
    "        x = [x]\n",
    "    return x"
   ],
   "outputs": [],
   "metadata": {}
  },
  {
   "cell_type": "code",
   "execution_count": 4,
   "source": [
    "str_to_list('s')"
   ],
   "outputs": [
    {
     "output_type": "execute_result",
     "data": {
      "text/plain": [
       "['s']"
      ]
     },
     "metadata": {},
     "execution_count": 4
    }
   ],
   "metadata": {}
  },
  {
   "cell_type": "markdown",
   "source": [
    "**去除只有一个值的列**"
   ],
   "metadata": {}
  },
  {
   "cell_type": "code",
   "execution_count": null,
   "source": [
    "# remove constant columns\n",
    "def check_const_cols(dat):\n",
    "    # remove only 1 unique vlaues variable \n",
    "    unique1_cols = [i for i in list(dat) if len(dat[i].unique())==1]\n",
    "    if len(unique1_cols) > 0:\n",
    "        warnings.warn(\"There are {} columns have only one unique values, which are removed from input dataset. \\n (ColumnNames: {})\".format(len(unique1_cols), ', '.join(unique1_cols)))\n",
    "        dat=dat.drop(unique1_cols, axis=1)\n",
    "    return dat"
   ],
   "outputs": [],
   "metadata": {}
  },
  {
   "cell_type": "markdown",
   "source": [
    "**去除日期类型列**"
   ],
   "metadata": {}
  },
  {
   "cell_type": "code",
   "execution_count": 7,
   "source": [
    "# remove date time columns\n",
    "def check_datetime_cols(dat):\n",
    "    datetime_cols = dat.apply(pd.to_numeric,errors='ignore').select_dtypes(object).apply(pd.to_datetime,errors='ignore').select_dtypes('datetime64').columns.tolist()\n",
    "    #datetime_cols = dat_time.dtypes[dat_time.dtypes == 'datetime64[ns]'].index.tolist()\n",
    "    if len(datetime_cols) > 0:\n",
    "        warnings.warn(\"There are {} date/time type columns are removed from input dataset. \\n (ColumnNames: {})\".format(len(datetime_cols), ', '.join(datetime_cols)))\n",
    "        dat=dat.drop(datetime_cols, axis=1)\n",
    "    return dat"
   ],
   "outputs": [],
   "metadata": {}
  },
  {
   "cell_type": "code",
   "execution_count": 10,
   "source": [
    "# check categorical columns' unique values\n",
    "def check_cateCols_uniqueValues(dat, var_skip = None):\n",
    "    # character columns with too many unique values\n",
    "    char_cols = [i for i in list(dat) if not is_numeric_dtype(dat[i])]\n",
    "    if var_skip is not None: \n",
    "        char_cols = list(set(char_cols) - set(str_to_list(var_skip)))\n",
    "    char_cols_too_many_unique = [i for i in char_cols if len(dat[i].unique()) >= 50]\n",
    "    if len(char_cols_too_many_unique) > 0:\n",
    "        print('>>> There are {} variables have too many unique non-numberic values, which might cause the binning process slow. Please double check the following variables: \\n{}'.format(len(char_cols_too_many_unique), ', '.join(char_cols_too_many_unique)))\n",
    "        print('>>> Continue the binning process?')\n",
    "        print('1: yes \\n2: no')\n",
    "        cont = int(input(\"Selection: \"))\n",
    "        while cont not in [1, 2]:\n",
    "            cont = int(input(\"Selection: \"))\n",
    "        if cont == 2:\n",
    "            raise SystemExit(0)\n",
    "    return None\n"
   ],
   "outputs": [],
   "metadata": {}
  },
  {
   "cell_type": "code",
   "execution_count": 9,
   "source": [],
   "outputs": [],
   "metadata": {}
  },
  {
   "cell_type": "code",
   "execution_count": null,
   "source": [],
   "outputs": [],
   "metadata": {}
  }
 ],
 "metadata": {
  "orig_nbformat": 4,
  "language_info": {
   "name": "python",
   "version": "3.7.7",
   "mimetype": "text/x-python",
   "codemirror_mode": {
    "name": "ipython",
    "version": 3
   },
   "pygments_lexer": "ipython3",
   "nbconvert_exporter": "python",
   "file_extension": ".py"
  },
  "kernelspec": {
   "name": "python3",
   "display_name": "Python 3.7.7 64-bit ('py37': conda)"
  },
  "interpreter": {
   "hash": "7f4adbc6b70afedd81f519f245fba20762d24430f7950260fbea43d59748b96b"
  }
 },
 "nbformat": 4,
 "nbformat_minor": 2
}