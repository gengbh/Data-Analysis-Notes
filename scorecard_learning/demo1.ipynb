{
 "cells": [
  {
   "cell_type": "markdown",
   "source": [
    "# 评分卡模型学习记录"
   ],
   "metadata": {}
  },
  {
   "cell_type": "code",
   "execution_count": 6,
   "source": [
    "# 导入依赖包\n",
    "import pandas as pd\n",
    "import numpy as np\n",
    "import re"
   ],
   "outputs": [],
   "metadata": {}
  },
  {
   "cell_type": "markdown",
   "source": [
    "## 1.scoorecardpy 代码解析"
   ],
   "metadata": {}
  },
  {
   "cell_type": "markdown",
   "source": [
    "**评分卡系数确定**    \n",
    "\n",
    "计算公式：Score=A-B*log(odds)  \n",
    "其中A与B是常数，A叫做“补偿”，B叫做“刻度”， 代表了一个人违约的可能性。  \n",
    "其实逻辑回归的结果取对数几率形式会得到 wtx，即我们的参数*特征矩阵，  \n",
    "所以 log(odds)其实就是我们的参数。两个常数可以通过两个假设的分值带入公式求出，  \n",
    "这两个假设分别是：   \n",
    "1. 某个特定的违约概率下的预期分值 \n",
    "2. 指定的违约概率翻倍的分数（PDO） \n",
    "\n",
    "例如，假设对数几率为 时设定的特定分数为600，PDO=20，那么对数几率为 时的分数就是620。  \n",
    "带入以上线性表达式，可以得到：  \n",
    "600=A-B*log(1/60)  \n",
    "620=A-B*log(1/30)  \n",
    "计算A B的值   \n",
    "B = 20/np.log(2)    \n",
    "A = 600 + B*np.log(1/60)  "
   ],
   "metadata": {}
  },
  {
   "cell_type": "code",
   "execution_count": 7,
   "source": [
    "\n",
    "# coefficients in scorecard\n",
    "def ab(points0=600, odds0=1/19, pdo=50):\n",
    "    # sigmoid function\n",
    "    # library(ggplot2)\n",
    "    # ggplot(data.frame(x = c(-5, 5)), aes(x)) + stat_function(fun = function(x) 1/(1+exp(-x)))\n",
    "  \n",
    "    # log_odds function\n",
    "    # ggplot(data.frame(x = c(0, 1)), aes(x)) + stat_function(fun = function(x) log(x/(1-x)))\n",
    "  \n",
    "    # logistic function\n",
    "    # p(y=1) = 1/(1+exp(-z)),\n",
    "        # z = beta0+beta1*x1+...+betar*xr = beta*x\n",
    "    ##==> z = log(p/(1-p)),\n",
    "        # odds = p/(1-p) # bad/good <==>\n",
    "        # p = odds/1+odds\n",
    "    ##==> z = log(odds)\n",
    "    ##==> score = a - b*log(odds)\n",
    "  \n",
    "    # two hypothesis\n",
    "    # points0 = a - b*log(odds0)\n",
    "    # points0 - PDO = a - b*log(2*odds0)\n",
    "    # if pdo > 0:\n",
    "    #     b = pdo/np.log(2)\n",
    "    # else:\n",
    "    #     b = -pdo/np.log(2)\n",
    "    b = pdo/np.log(2)\n",
    "    a = points0 + b*np.log(odds0) #log(odds0/(1+odds0))\n",
    "    \n",
    "    return {'a':a, 'b':b}"
   ],
   "outputs": [],
   "metadata": {}
  },
  {
   "cell_type": "code",
   "execution_count": 8,
   "source": [
    "ab(599,1/20,20)"
   ],
   "outputs": [
    {
     "output_type": "execute_result",
     "data": {
      "text/plain": [
       "{'a': 512.5614381022527, 'b': 28.85390081777927}"
      ]
     },
     "metadata": {},
     "execution_count": 8
    }
   ],
   "metadata": {}
  },
  {
   "cell_type": "markdown",
   "source": [
    "**生成评分卡** "
   ],
   "metadata": {}
  },
  {
   "cell_type": "code",
   "execution_count": 9,
   "source": [
    "def scorecard(bins, model, xcolumns, points0=600, odds0=1/19, pdo=50, basepoints_eq0=False, digits=0):\n",
    "    '''\n",
    "    Creating a Scorecard\n",
    "    ------\n",
    "    `scorecard` creates a scorecard based on the results from `woebin` \n",
    "    and LogisticRegression of sklearn.linear_model\n",
    "    \n",
    "    Params\n",
    "    ------\n",
    "    bins: Binning information generated from `woebin` function.\n",
    "    model: A LogisticRegression model object.\n",
    "    points0: Target points, default 600.\n",
    "    odds0: Target odds, default 1/19. Odds = p/(1-p).\n",
    "    pdo: Points to Double the Odds, default 50.\n",
    "    basepoints_eq0: Logical, default is FALSE. If it is TRUE, the \n",
    "      basepoints will equally distribute to each variable.\n",
    "    digits: The number of digits after the decimal point for points \n",
    "      calculation. Default 0.\n",
    "    \n",
    "    \n",
    "    Returns\n",
    "    ------\n",
    "    DataFrame\n",
    "        scorecard dataframe\n",
    "    \n",
    "    Examples\n",
    "    ------\n",
    "    import scorecardpy as sc\n",
    "    \n",
    "    # load data\n",
    "    dat = sc.germancredit()\n",
    "    \n",
    "    # filter variable via missing rate, iv, identical value rate\n",
    "    dt_sel = sc.var_filter(dat, \"creditability\")\n",
    "    \n",
    "    # woe binning ------\n",
    "    bins = sc.woebin(dt_sel, \"creditability\")\n",
    "    dt_woe = sc.woebin_ply(dt_sel, bins)\n",
    "    \n",
    "    y = dt_woe.loc[:,'creditability']\n",
    "    X = dt_woe.loc[:,dt_woe.columns != 'creditability']\n",
    "    \n",
    "    # logistic regression ------\n",
    "    from sklearn.linear_model import LogisticRegression\n",
    "    lr = LogisticRegression(penalty='l1', C=0.9, solver='saga')\n",
    "    lr.fit(X, y)\n",
    "    \n",
    "    # # predicted proability\n",
    "    # dt_pred = lr.predict_proba(X)[:,1]\n",
    "    # # performace\n",
    "    # # ks & roc plot\n",
    "    # sc.perf_eva(y, dt_pred)\n",
    "    \n",
    "    # scorecard\n",
    "    # Example I # creat a scorecard\n",
    "    card = sc.scorecard(bins, lr, X.columns)\n",
    "    \n",
    "    # credit score\n",
    "    # Example I # only total score\n",
    "    score1 = sc.scorecard_ply(dt_sel, card)\n",
    "    # Example II # credit score for both total and each variable\n",
    "    score2 = sc.scorecard_ply(dt_sel, card, only_total_score = False)\n",
    "    '''\n",
    "    \n",
    "    # coefficients\n",
    "    aabb = ab(points0, odds0, pdo)\n",
    "    a = aabb['a'] \n",
    "    b = aabb['b']\n",
    "    # odds = pred/(1-pred); score = a - b*log(odds)\n",
    "    \n",
    "    # bins # if (is.list(bins)) rbindlist(bins)\n",
    "    if isinstance(bins, dict):\n",
    "        bins = pd.concat(bins, ignore_index=True)\n",
    "    xs = [re.sub('_woe$', '', i) for i in xcolumns]\n",
    "    # coefficients\n",
    "    coef_df = pd.Series(model.coef_[0], index=np.array(xs))\\\n",
    "      .loc[lambda x: x != 0]#.reset_index(drop=True)\n",
    "    \n",
    "    # scorecard\n",
    "    len_x = len(coef_df)\n",
    "    basepoints = a - b*model.intercept_[0]\n",
    "    card = {}\n",
    "    if basepoints_eq0:\n",
    "        card['basepoints'] = pd.DataFrame({'variable':\"basepoints\", 'bin':np.nan, 'points':0}, index=np.arange(1))\n",
    "        for i in coef_df.index:\n",
    "            card[i] = bins.loc[bins['variable']==i,['variable', 'bin', 'woe']]\\\n",
    "              .assign(points = lambda x: round(-b*x['woe']*coef_df[i] + basepoints/len_x), ndigits=digits)\\\n",
    "              [[\"variable\", \"bin\", \"points\"]]\n",
    "    else:\n",
    "        card['basepoints'] = pd.DataFrame({'variable':\"basepoints\", 'bin':np.nan, 'points':round(basepoints, ndigits=digits)}, index=np.arange(1))\n",
    "        for i in coef_df.index:\n",
    "            card[i] = bins.loc[bins['variable']==i,['variable', 'bin', 'woe']]\\\n",
    "              .assign(points = lambda x: round(-b*x['woe']*coef_df[i]), ndigits=digits)\\\n",
    "              [[\"variable\", \"bin\", \"points\"]]\n",
    "    return card"
   ],
   "outputs": [],
   "metadata": {}
  },
  {
   "cell_type": "code",
   "execution_count": null,
   "source": [],
   "outputs": [],
   "metadata": {}
  }
 ],
 "metadata": {
  "orig_nbformat": 4,
  "language_info": {
   "name": "python",
   "version": "3.7.7",
   "mimetype": "text/x-python",
   "codemirror_mode": {
    "name": "ipython",
    "version": 3
   },
   "pygments_lexer": "ipython3",
   "nbconvert_exporter": "python",
   "file_extension": ".py"
  },
  "kernelspec": {
   "name": "python3",
   "display_name": "Python 3.7.7 64-bit ('py37': conda)"
  },
  "interpreter": {
   "hash": "7f4adbc6b70afedd81f519f245fba20762d24430f7950260fbea43d59748b96b"
  }
 },
 "nbformat": 4,
 "nbformat_minor": 2
}